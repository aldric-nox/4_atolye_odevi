{
 "cells": [
  {
   "cell_type": "markdown",
   "id": "1a3877fb",
   "metadata": {},
   "source": [
    "#### Kullanıcıdan pi değeri ve yarıçap bilgisi alarak dairenin alanını hesaplayan bir fonksiyon oluşturulur.\n",
    "\n",
    "\n"
   ]
  },
  {
   "cell_type": "code",
   "execution_count": 7,
   "id": "5774f9be",
   "metadata": {
    "scrolled": true
   },
   "outputs": [
    {
     "name": "stdout",
     "output_type": "stream",
     "text": [
      "Pi değerini giriniz: 3.14\n",
      "Yarıçapı giriniz: 5.25\n",
      "Dairenin alanı: 86.54625\n"
     ]
    }
   ],
   "source": [
    "def daire_alani(pi, yaricap):\n",
    "    alan = pi * (yaricap ** 2)\n",
    "    return alan\n",
    "\n",
    "# Kullanıcıdan pi değeri ve yarıçap bilgisi alınır. \n",
    "# İki veride ondalıklı olabileceğinden dolayı float kullanılır.\n",
    "pi_degeri = float(input(\"Pi değerini giriniz: \"))\n",
    "yaricap = float(input(\"Yarıçapı giriniz: \"))\n",
    "\n",
    "alan = daire_alani(pi_degeri, yaricap)\n",
    "print(f\"Dairenin alanı: {alan}\")\n"
   ]
  },
  {
   "cell_type": "markdown",
   "id": "f0c6a18b",
   "metadata": {},
   "source": [
    "#### Faktöriyel adında fonksiyon oluşturulur. Döngü kullanarak parametre olarak girilen sayının faktöriyeli hesaplanır. Format metodunu kullanılarak ekrana yazdırılır.\n"
   ]
  },
  {
   "cell_type": "code",
   "execution_count": 8,
   "id": "accbcb24",
   "metadata": {},
   "outputs": [
    {
     "name": "stdout",
     "output_type": "stream",
     "text": [
      "Faktöriyelini hesaplamak istediğiniz sayıyı giriniz: 4\n",
      "Girilen sayının faktöriyeli: 24\n"
     ]
    }
   ],
   "source": [
    "def faktoriyel(sayi):\n",
    "    sonuc = 1\n",
    "    for i in range(1, sayi + 1):\n",
    "        sonuc *= i\n",
    "    return sonuc\n",
    "\n",
    "# Kullanıcıdan sayı alınır.\n",
    "sayi = int(input(\"Faktöriyelini hesaplamak istediğiniz sayıyı giriniz: \"))\n",
    "\n",
    "# Fonksiyonu çağırma ve sonucu format yöntemi ile yazdırılır.\n",
    "fakt = faktoriyel(sayi)\n",
    "print(\"Girilen sayının faktöriyeli: {}\".format(fakt))\n"
   ]
  },
  {
   "cell_type": "markdown",
   "id": "bf63a0fa",
   "metadata": {},
   "source": [
    "#### Kişinin fonksiyona doğum yılını vererek kaç yaşında olduğunu hesaplayan bir fonksiyon oluşturun. "
   ]
  },
  {
   "cell_type": "code",
   "execution_count": 9,
   "id": "a13b7813",
   "metadata": {},
   "outputs": [
    {
     "name": "stdout",
     "output_type": "stream",
     "text": [
      "Doğum yılınızı giriniz: 2006\n",
      "Mevcut yılı giriniz: 2024\n",
      "Şu anda 18 yaşındasınız.\n"
     ]
    }
   ],
   "source": [
    "def yas_hesapla(dogum_yili, mevcut_yil):\n",
    "    yas = mevcut_yil - dogum_yili\n",
    "    return yas\n",
    "\n",
    "# Kullanıcıdan doğum yılı ve mevcut yılı alırız.\n",
    "dogum_yili = int(input(\"Doğum yılınızı giriniz: \"))\n",
    "mevcut_yil = int(input(\"Mevcut yılı giriniz: \"))\n",
    "\n",
    "\n",
    "yas = yas_hesapla(dogum_yili, mevcut_yil)\n",
    "print(\"Şu anda {} yaşındasınız.\".format(yas))"
   ]
  },
  {
   "cell_type": "markdown",
   "id": "4244ad8a",
   "metadata": {},
   "source": [
    "#### Doğum yılı ve isim bilgisi verilen fonksiyon kişinin emekli olup olmadığını söylesin.(Kişi 65 yaşında ise emekli olur.) Burada yaş hesabını yukarıdaki örnekteki fonksiyonu kullanarak yapsın.(Yani fonksiyon içinde fonksiyon kullanmanızı istiyorum :)) Kişi 65 yaşında ya da daha fazlaysa \"Emekli oldunuz\" yanıtını, 65 yaşından küçükse emekliliğine kaç yıl kaldığını da hesaplayarak \"(isim) emekliliğine (yıl) kaldı.\" yanıtını versin."
   ]
  },
  {
   "cell_type": "code",
   "execution_count": 12,
   "id": "6885e7c6",
   "metadata": {},
   "outputs": [
    {
     "name": "stdout",
     "output_type": "stream",
     "text": [
      "İsminizi giriniz: Uzay\n",
      "Doğum yılınızı giriniz: 2006\n",
      "Mevcut yılı giriniz: 2024\n",
      "Uzay, emekliliğinize 47 yıl kaldı.\n"
     ]
    }
   ],
   "source": [
    "def yas_hesapla(dogum_yili, mevcut_yil):\n",
    "    yas = mevcut_yil - dogum_yili\n",
    "    return yas\n",
    "\n",
    "def emeklilik_durumu(isim, dogum_yili, mevcut_yil):\n",
    "    yas = yas_hesapla(dogum_yili, mevcut_yil)\n",
    "    if yas >= 65:\n",
    "        print(f\"{isim}, emekli oldunuz.\")\n",
    "    else:\n",
    "        kalan_yil = 65 - yas\n",
    "        print(f\"{isim}, emekliliğinize {kalan_yil} yıl kaldı.\")\n",
    "\n",
    "isim = input(\"İsminizi giriniz: \")\n",
    "dogum_yili = int(input(\"Doğum yılınızı giriniz: \"))\n",
    "mevcut_yil = int(input(\"Mevcut yılı giriniz: \"))\n",
    "\n",
    "emeklilik_durumu(isim, dogum_yili, mevcut_yil)"
   ]
  },
  {
   "cell_type": "code",
   "execution_count": null,
   "id": "f6992cbe",
   "metadata": {},
   "outputs": [],
   "source": []
  }
 ],
 "metadata": {
  "kernelspec": {
   "display_name": "Python 3 (ipykernel)",
   "language": "python",
   "name": "python3"
  },
  "language_info": {
   "codemirror_mode": {
    "name": "ipython",
    "version": 3
   },
   "file_extension": ".py",
   "mimetype": "text/x-python",
   "name": "python",
   "nbconvert_exporter": "python",
   "pygments_lexer": "ipython3",
   "version": "3.10.9"
  }
 },
 "nbformat": 4,
 "nbformat_minor": 5
}
